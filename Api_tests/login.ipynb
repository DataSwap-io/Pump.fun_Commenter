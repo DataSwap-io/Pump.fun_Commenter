import requests
import time

timestamp = str(int(time.time() * 1000))

payload = {
    "address": "BL4NTkMsGB1pf2ju43qQDYhPtpKSSrFUaX4kU5ZoqPE",
    "signature": "2E14okmr4JfHoT2JuadzFcMzf8jLW7a4hwtQpbRtYdY77eknZkjZHWzMCvBNyApg7mqGqRvrUXeDsagcrFFUPoHM",
    "timestamp": 1739045744979
}

my_profile_url = "https://frontend-api-v3.pump.fun/auth/my-profile"
login_url = "https://frontend-api-v3.pump.fun/auth/login"
sol_price = "https://frontend-api-v3.pump.fun/sol-price"
eras = "https://frontend-api-v3.pump.fun/eras" 

response_1 = requests.get(eras)
response_2 = requests.get(my_profile_url)
response_3 = requests.get(sol_price)
response_4 = requests.options(login_url)
response_5 = requests.post(login_url, json=payload)
response_6 = requests.post(my_profile_url)

print(response_1, response_2, response_3, response_4, response_5, response_6)

if response_5.status_code == 201:
    print("Login succesvol!")
else:
    print(f"Login mislukt: {response.status_code}")

#output als werkt: 200, 401, 200, 204, 201, 200
#output als nerkt: 200, 401, 200, 204, 500, 404

